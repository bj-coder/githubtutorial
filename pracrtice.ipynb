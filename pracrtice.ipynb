{
 "cells": [
  {
   "cell_type": "markdown",
   "metadata": {
    "collapsed": true
   },
   "source": [
    "# My Jupyter notebook on Watson Studio for assignment"
   ]
  },
  {
   "cell_type": "markdown",
   "metadata": {},
   "source": [
    "## Balaji N-"
   ]
  },
  {
   "cell_type": "markdown",
   "metadata": {},
   "source": [
    "I am carzy about new tech so i always learn new things and currently curious about data !!"
   ]
  },
  {
   "cell_type": "markdown",
   "metadata": {},
   "source": [
    "###  my code will print some strings using loops and print outputs of some basic arithmetic operations."
   ]
  },
  {
   "cell_type": "code",
   "execution_count": 1,
   "metadata": {},
   "outputs": [
    {
     "name": "stdout",
     "output_type": "stream",
     "text": [
      "I love Data Science\n",
      "I love Data Science\n",
      "I love Data Science\n",
      "I love Data Science\n",
      "I love Data Science\n",
      "I love Data Science\n",
      "I love Data Science\n",
      "I love Data Science\n",
      "I love Data Science\n",
      "I love Data Science\n",
      "40\n",
      "-18\n",
      "0.3793103448275862\n",
      "0\n"
     ]
    }
   ],
   "source": [
    "\n",
    "for i in range(10):\n",
    "    print (\"I love Data Science\")\n",
    "a=11\n",
    "b=29\n",
    "print(a+b)\n",
    "\n",
    "print(a-b)\n",
    "print(a/b)\n",
    "print(a//b)\n",
    "    \n",
    "    \n",
    " "
   ]
  },
  {
   "cell_type": "markdown",
   "metadata": {},
   "source": [
    "___"
   ]
  },
  {
   "cell_type": "markdown",
   "metadata": {},
   "source": [
    "* This is a bullet point\n",
    "* I completed this\n",
    "* because\n",
    "* To create a bulleted list"
   ]
  },
  {
   "cell_type": "markdown",
   "metadata": {},
   "source": [
    "#### Numbered list\n",
    "1. one\n",
    "2. two\n",
    "3. three \n",
    "4. four"
   ]
  },
  {
   "cell_type": "markdown",
   "metadata": {},
   "source": [
    "> blocked quotes"
   ]
  },
  {
   "cell_type": "markdown",
   "metadata": {},
   "source": [
    "``` \n",
    "for i in range(10):\n",
    "    print (\"I love Data Science\")\n",
    "a=11\n",
    "b=29\n",
    "print(a+b)\n",
    "\n",
    "print(a-b)\n",
    "print(a/b)\n",
    "print(a//b)\n",
    "    \n",
    "    \n",
    " ```"
   ]
  },
  {
   "cell_type": "markdown",
   "metadata": {},
   "source": [
    "## completed"
   ]
  },
  {
   "cell_type": "markdown",
   "metadata": {},
   "source": [
    "___"
   ]
  },
  {
   "cell_type": "code",
   "execution_count": null,
   "metadata": {},
   "outputs": [],
   "source": []
  }
 ],
 "metadata": {
  "kernelspec": {
   "display_name": "Python 3.9",
   "language": "python",
   "name": "python3"
  },
  "language_info": {
   "codemirror_mode": {
    "name": "ipython",
    "version": 3
   },
   "file_extension": ".py",
   "mimetype": "text/x-python",
   "name": "python",
   "nbconvert_exporter": "python",
   "pygments_lexer": "ipython3",
   "version": "3.9.12"
  }
 },
 "nbformat": 4,
 "nbformat_minor": 1
}
